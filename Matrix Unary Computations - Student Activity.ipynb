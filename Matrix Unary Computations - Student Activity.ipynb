{
  "cells": [
    {
      "cell_type": "markdown",
      "metadata": {
        "id": "x7mBXin11S6Y"
      },
      "source": [
        "# Matrix Unary Computations - Student Activity"
      ]
    },
    {
      "cell_type": "code",
      "execution_count": null,
      "metadata": {
        "id": "WX3OO7OL1S6a"
      },
      "outputs": [],
      "source": [
        "import numpy as np"
      ]
    },
    {
      "cell_type": "markdown",
      "metadata": {
        "id": "zAq5krGq1S6b"
      },
      "source": [
        "## Section 1: Understanding Unary Operations\n",
        "\n",
        "**Q1: What are some examples of unary operations in matrices?**"
      ]
    },
    {
      "cell_type": "code",
      "execution_count": null,
      "metadata": {
        "id": "Coktyfwe1S6b"
      },
      "outputs": [],
      "source": [
        "# Answer: Transpose, Trace, Determinant"
      ]
    },
    {
      "cell_type": "markdown",
      "metadata": {
        "id": "fQ900nh41S6b"
      },
      "source": [
        "### Symmetric Matrix\n",
        "\n",
        "A matrix is symmetric if it is equal to its transpose.\n",
        "\n",
        "**Q2: Check if `matrix_A` is a symmetric matrix.**"
      ]
    },
    {
      "cell_type": "code",
      "execution_count": null,
      "metadata": {
        "id": "Clr67Lc01S6c"
      },
      "outputs": [],
      "source": [
        "# Check if the matrix is symmetric\n",
        "is_symmetric = (matrix_A == matrix_A.T).all()\n",
        "print(\"\\nIs Matrix A symmetric?\", is_symmetric)"
      ]
    },
    {
      "cell_type": "markdown",
      "metadata": {
        "id": "iGqGBxT11S6c"
      },
      "source": [
        "### Practice Problem 1:\n",
        "Create a 4×4 random matrix and check if it is symmetric."
      ]
    },
    {
      "cell_type": "code",
      "execution_count": null,
      "metadata": {
        "id": "RCEw2WpW1S6c"
      },
      "outputs": [],
      "source": [
        "# Create a 4x4 random matrix\n",
        "random_matrix = np.random.randint(1, 10, (4, 4))\n",
        "transpose_random = random_matrix.T\n",
        "\n",
        "# Check symmetry\n",
        "is_symmetric_random = (random_matrix == transpose_random).all()\n",
        "\n",
        "print(\"Random Matrix:\\n\", random_matrix)\n",
        "print(\"\\nIs the random matrix symmetric?\", is_symmetric_random)"
      ]
    },
    {
      "cell_type": "markdown",
      "metadata": {
        "id": "e1-xoUnm1S6c"
      },
      "source": [
        "## Section 2: Trace of a Matrix\n",
        "\n",
        "### Example"
      ]
    },
    {
      "cell_type": "code",
      "execution_count": null,
      "metadata": {
        "id": "srMS95041S6c"
      },
      "outputs": [],
      "source": [
        "# Calculate the trace of matrix_A\n",
        "trace_A = np.trace(matrix_A)\n",
        "print(\"\\nTrace of Matrix A:\", trace_A)"
      ]
    },
    {
      "cell_type": "markdown",
      "metadata": {
        "id": "fzvgrm3w1S6c"
      },
      "source": [
        "**Q3: What is the trace of the following matrix?**"
      ]
    },
    {
      "cell_type": "code",
      "execution_count": null,
      "metadata": {
        "id": "IYFViyP61S6d"
      },
      "outputs": [],
      "source": [
        "matrix_B = np.array([[2, 4, 6],\n",
        "                     [1, 3, 5],\n",
        "                     [7, 8, 9]])\n",
        "\n",
        "trace_B = np.trace(matrix_B)\n",
        "print(\"Matrix B:\\n\", matrix_B)\n",
        "print(\"\\nTrace of Matrix B:\", trace_B)"
      ]
    },
    {
      "cell_type": "markdown",
      "metadata": {
        "id": "cLWhM7Vv1S6d"
      },
      "source": [
        "### Practice Problem 2:\n",
        "Find the trace of a 5×5 identity matrix."
      ]
    },
    {
      "cell_type": "code",
      "execution_count": null,
      "metadata": {
        "id": "jB4PU0XH1S6d"
      },
      "outputs": [],
      "source": [
        "# Create a 5x5 identity matrix\n",
        "identity_matrix = np.eye(5)\n",
        "\n",
        "# Calculate its trace\n",
        "trace_identity = np.trace(identity_matrix)\n",
        "\n",
        "print(\"5x5 Identity Matrix:\\n\", identity_matrix)\n",
        "print(\"\\nTrace of the Identity Matrix:\", trace_identity)"
      ]
    },
    {
      "cell_type": "markdown",
      "metadata": {
        "id": "9cXDGnGa1S6d"
      },
      "source": [
        "## Section 3: Determinant using the Cofactor Method\n",
        "### Example: Determinant of a 3×3 Matrix"
      ]
    },
    {
      "cell_type": "code",
      "execution_count": null,
      "metadata": {
        "id": "qmLxKNPm1S6d"
      },
      "outputs": [],
      "source": [
        "# Determinant using NumPy\n",
        "det_A = np.linalg.det(matrix_A)\n",
        "print(\"\\nDeterminant of Matrix A:\", det_A)"
      ]
    },
    {
      "cell_type": "markdown",
      "metadata": {
        "id": "NdrkgSqr1S6d"
      },
      "source": [
        "### Manual Cofactor Method"
      ]
    },
    {
      "cell_type": "code",
      "execution_count": null,
      "metadata": {
        "id": "6uoROJNy1S6d"
      },
      "outputs": [],
      "source": [
        "# Determinant of a 2x2 matrix using the cofactor method\n",
        "matrix_C = np.array([[4, 6], [3, 8]])\n",
        "det_C = (matrix_C[0, 0] * matrix_C[1, 1]) - (matrix_C[0, 1] * matrix_C[1, 0])\n",
        "print(\"Determinant of Matrix C:\", det_C)"
      ]
    },
    {
      "cell_type": "markdown",
      "metadata": {
        "id": "-Y5Mm2df1S6d"
      },
      "source": [
        "### Practice Problem 3:\n",
        "Compute the determinant of the following 3×3 matrix using NumPy:"
      ]
    },
    {
      "cell_type": "code",
      "execution_count": null,
      "metadata": {
        "id": "ah6TTcP_1S6d"
      },
      "outputs": [],
      "source": [
        "matrix_D = np.array([[2, -1, 3],\n",
        "                     [4, 0, -2],\n",
        "                     [-1, 5, 2]])\n",
        "\n",
        "det_D = np.linalg.det(matrix_D)\n",
        "print(\"Matrix D:\\n\", matrix_D)\n",
        "print(\"\\nDeterminant of Matrix D:\", det_D)"
      ]
    },
    {
      "cell_type": "markdown",
      "metadata": {
        "id": "JYOSR6sn1S6d"
      },
      "source": [
        "## Section 4: Practice Problems\n",
        "\n",
        "### Practice Problem 4:"
      ]
    },
    {
      "cell_type": "code",
      "execution_count": null,
      "metadata": {
        "id": "TLVQYenk1S6d"
      },
      "outputs": [],
      "source": [
        "# Generate a random 3x3 matrix representing pixel intensities (0-255)\n",
        "pixel_matrix = np.random.randint(0, 256, (3, 3))\n",
        "\n",
        "# Find its transpose\n",
        "pixel_transpose = pixel_matrix.T\n",
        "\n",
        "# Calculate its determinant\n",
        "pixel_determinant = np.linalg.det(pixel_matrix)\n",
        "\n",
        "print(\"Original Pixel Matrix:\\n\", pixel_matrix)\n",
        "print(\"\\nTransposed Pixel Matrix:\\n\", pixel_transpose)\n",
        "print(\"\\nDeterminant of Pixel Matrix:\", pixel_determinant)"
      ]
    },
    {
      "cell_type": "markdown",
      "metadata": {
        "id": "1HnxUOEn1S6e"
      },
      "source": [
        "### Practice Problem 5:"
      ]
    },
    {
      "cell_type": "code",
      "execution_count": null,
      "metadata": {
        "id": "qB_Z25xL1S6e"
      },
      "outputs": [],
      "source": [
        "# Create a symmetric 3x3 matrix\n",
        "symmetric_matrix = np.array([[1, 2, 3],\n",
        "                             [2, 4, 5],\n",
        "                             [3, 5, 6]])\n",
        "\n",
        "# Verify symmetry\n",
        "is_symmetric = np.allclose(symmetric_matrix, symmetric_matrix.T)\n",
        "\n",
        "# Calculate eigenvalues\n",
        "eigenvalues = np.linalg.eigvals(symmetric_matrix)\n",
        "\n",
        "print(\"Symmetric Matrix:\\n\", symmetric_matrix)\n",
        "print(\"\\nIs the matrix symmetric?\", is_symmetric)\n",
        "print(\"\\nEigenvalues:\", eigenvalues)\n",
        "print(\"\\nAll eigenvalues are real:\", np.all(np.isreal(eigenvalues)))"
      ]
    }
  ],
  "metadata": {
    "kernelspec": {
      "display_name": "Python 3",
      "language": "python",
      "name": "python3"
    },
    "language_info": {
      "codemirror_mode": {
        "name": "ipython",
        "version": 3
      },
      "file_extension": ".py",
      "mimetype": "text/x-python",
      "name": "python",
      "nbconvert_exporter": "python",
      "pygments_lexer": "ipython3",
      "version": "3.8.5"
    },
    "colab": {
      "provenance": []
    }
  },
  "nbformat": 4,
  "nbformat_minor": 0
}